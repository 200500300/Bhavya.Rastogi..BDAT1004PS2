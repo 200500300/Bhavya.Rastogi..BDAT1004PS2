{
 "cells": [
  {
   "cell_type": "markdown",
   "id": "7117b423",
   "metadata": {},
   "source": [
    "# BDAT 1004 – Data Programming \n"
   ]
  },
  {
   "cell_type": "markdown",
   "id": "1c4a238c",
   "metadata": {},
   "source": [
    "# Problem Set 2"
   ]
  },
  {
   "cell_type": "markdown",
   "id": "c0b82438",
   "metadata": {},
   "source": [
    "# Question1"
   ]
  },
  {
   "cell_type": "code",
   "execution_count": 17,
   "id": "df62d3b4",
   "metadata": {},
   "outputs": [],
   "source": [
    "a = 0\n",
    "def b(): #b is local\n",
    " global a #a is global variable\n",
    " a = c(a)  #c is local\n",
    "def c(a):\n",
    " return a + 2"
   ]
  },
  {
   "cell_type": "code",
   "execution_count": 18,
   "id": "590b8f10",
   "metadata": {},
   "outputs": [
    {
     "data": {
      "text/plain": [
       "6"
      ]
     },
     "execution_count": 18,
     "metadata": {},
     "output_type": "execute_result"
    }
   ],
   "source": [
    "b()  #b=2\n",
    "b()  #b=2+2\n",
    "b()  #b=4+2 \n",
    "a  #after implementing b three times a will return 6"
   ]
  },
  {
   "cell_type": "markdown",
   "id": "49682573",
   "metadata": {},
   "source": [
    "a is zero \n",
    "b is local\n",
    "c is local \n",
    "a is global variable\n",
    "b is zero\n",
    "After implementing b three times\n",
    "a will return 6"
   ]
  },
  {
   "cell_type": "markdown",
   "id": "157660db",
   "metadata": {},
   "source": [
    "# Question2"
   ]
  },
  {
   "cell_type": "code",
   "execution_count": 35,
   "id": "4b4fab90",
   "metadata": {},
   "outputs": [
    {
     "name": "stdout",
     "output_type": "stream",
     "text": [
      "123\n",
      "File ilelength.txt not found.\n"
     ]
    }
   ],
   "source": [
    "infile = open('Filelength.txt')\n",
    "file = infile.read()\n",
    "print(len(file))\n",
    "\n",
    "try: \n",
    "        infile = open('ilelength.txt')\n",
    "        file = infile.read()\n",
    "        print(len(file))\n",
    "except:\n",
    "        print('File ilelength.txt not found.')"
   ]
  },
  {
   "cell_type": "markdown",
   "id": "3da395aa",
   "metadata": {},
   "source": [
    "# Question3"
   ]
  },
  {
   "cell_type": "code",
   "execution_count": 14,
   "id": "7a3431c2",
   "metadata": {},
   "outputs": [
    {
     "data": {
      "text/plain": [
       "['doll', 'firetruck', 'kitten']"
      ]
     },
     "execution_count": 14,
     "metadata": {},
     "output_type": "execute_result"
    }
   ],
   "source": [
    "class Marsupial(object):\n",
    "    def __init__(self):\n",
    "        self.list=[]\n",
    "    def put_in_pouch(self,item):\n",
    "        self.list.append(item)\n",
    "    def pouch_contents(self):\n",
    "        return self.list\n",
    "m = Marsupial()\n",
    "m.put_in_pouch('doll')\n",
    "m.put_in_pouch('firetruck')\n",
    "m.put_in_pouch('kitten')\n",
    "m.pouch_contents()"
   ]
  },
  {
   "cell_type": "code",
   "execution_count": 1,
   "id": "d201f6e4",
   "metadata": {},
   "outputs": [
    {
     "name": "stdout",
     "output_type": "stream",
     "text": [
      "I am a Kangaroo located at coordinates (0,0)\n",
      "['doll', 'firetruck', 'kitten']\n",
      "I am a Kangaroo located at coordinates (3,0)\n"
     ]
    }
   ],
   "source": [
    "class Marsupial():\n",
    "    def __init__(self):\n",
    "        self.list=[]\n",
    "    def put_in_pouch(self,item):\n",
    "        self.list.append(item)\n",
    "    def pouch_contents(self):\n",
    "        return self.list\n",
    "class Kangaroo(Marsupial):\n",
    "    def __init__(self,x,y):\n",
    "        Marsupial.__init__(self)\n",
    "        self.x=x\n",
    "        self.y=y\n",
    "    def jump(self,dx,dy):\n",
    "        self.x += dx\n",
    "        self.y += dy\n",
    "    def __str__(self):\n",
    "        return \"I am a Kangaroo located at coordinates (\"+str(self.x)+\",\"+str(self.y)+\")\"\n",
    "    \n",
    "k=Kangaroo(0,0)\n",
    "print(k)\n",
    "k.put_in_pouch('doll')\n",
    "k.put_in_pouch('firetruck')\n",
    "k.put_in_pouch('kitten')\n",
    "k.pouch_contents()\n",
    "print(k.pouch_contents())\n",
    "k.jump(1,0)\n",
    "k.jump(1,0)\n",
    "k.jump(1,0)\n",
    "print(k)"
   ]
  },
  {
   "cell_type": "markdown",
   "id": "dc24a451",
   "metadata": {},
   "source": [
    "# Question4"
   ]
  },
  {
   "cell_type": "code",
   "execution_count": 11,
   "id": "537f70e2",
   "metadata": {},
   "outputs": [
    {
     "name": "stdout",
     "output_type": "stream",
     "text": [
      "what is the number: 10\n",
      "5\n",
      "16\n",
      "8\n",
      "4\n",
      "2\n",
      "1\n"
     ]
    }
   ],
   "source": [
    "def collatz(x):\n",
    "\n",
    "    if x % 2 == 0:       #condition of even numbers\n",
    "        print(x // 2)\n",
    "        return x // 2\n",
    "    elif x % 2 == 1:          #condition for odd numbers\n",
    "        result = 3 * x + 1\n",
    "        print(result)\n",
    "        return result\n",
    "    \n",
    "    \n",
    "i = input(\"what is the number: \")\n",
    "while i != 1:                             #while loop till 1\n",
    "    i = collatz(int(i))"
   ]
  },
  {
   "cell_type": "markdown",
   "id": "d3c0e2cf",
   "metadata": {},
   "source": [
    "# Question5"
   ]
  },
  {
   "cell_type": "code",
   "execution_count": 6,
   "id": "11febc7c",
   "metadata": {},
   "outputs": [],
   "source": [
    "def binary(value):\n",
    "    if (value>1):\n",
    "       binary(value/2)\n",
    "    print(int(value%2),  end=\" \")\n"
   ]
  },
  {
   "cell_type": "code",
   "execution_count": 22,
   "id": "48d56267",
   "metadata": {},
   "outputs": [
    {
     "name": "stdout",
     "output_type": "stream",
     "text": [
      "0 "
     ]
    }
   ],
   "source": [
    "binary(0)"
   ]
  },
  {
   "cell_type": "code",
   "execution_count": 23,
   "id": "d644cfea",
   "metadata": {},
   "outputs": [
    {
     "name": "stdout",
     "output_type": "stream",
     "text": [
      "1 "
     ]
    }
   ],
   "source": [
    "binary(1)"
   ]
  },
  {
   "cell_type": "markdown",
   "id": "bb6dfa5b",
   "metadata": {},
   "source": [
    "# Question6"
   ]
  },
  {
   "cell_type": "code",
   "execution_count": 4,
   "id": "f1864f90",
   "metadata": {
    "scrolled": true
   },
   "outputs": [
    {
     "name": "stdout",
     "output_type": "stream",
     "text": [
      "\n",
      "\n",
      "\n",
      "\n",
      "\n",
      "\n",
      "  \n",
      "\n",
      "  \n",
      "\n",
      "  \n",
      "Change_me\n",
      "\n",
      "  \n",
      "\n",
      "  \n",
      "\n",
      "  \n",
      "\n",
      "\n",
      "\n",
      "\n",
      "\n",
      "\n",
      "  \n",
      "\t\n",
      "W3C Mission\n",
      "\n",
      "\t\n",
      "Principles\n",
      "\n",
      " \n",
      "\n",
      "\n",
      "\n",
      "\n",
      "\n"
     ]
    }
   ],
   "source": [
    "from html.parser import HTMLParser\n",
    "class HeadingParser(HTMLParser):\n",
    "    \n",
    "    headings = ['h1','h2','h3','h4','h5','h6']\n",
    "    \n",
    "    def handle_starttag(self, tag, attrs):\n",
    "        if tag in self.headings: \n",
    "            pass\n",
    "            \n",
    "    def handle_endtag(self,tag):\n",
    "        if tag in self.headings:\n",
    "            pass\n",
    "    def handle_data(self,data):\n",
    "            print(data)\n",
    "\n",
    "parser = HeadingParser()\n",
    "infile = open('w3c.txt')\n",
    "content= infile.read()\n",
    "infile.close()\n",
    "hp = HeadingParser()\n",
    "hp.feed(content)"
   ]
  },
  {
   "cell_type": "markdown",
   "id": "fda92517",
   "metadata": {},
   "source": [
    "# Question7"
   ]
  },
  {
   "cell_type": "code",
   "execution_count": 36,
   "id": "4e1f388d",
   "metadata": {},
   "outputs": [],
   "source": [
    "from urllib.parse import urljoin\n",
    "from urllib.request import urlopen\n",
    "from html.parser import HTMLParser\n",
    "class Collect(HTMLParser):\n",
    "    'collects URLs'\n",
    "\n",
    "    def __init__(self, url):\n",
    "        \n",
    "        HTMLParser.__init__(self)\n",
    "        self.url = url\n",
    "        self.links = []\n",
    "\n",
    "    \n",
    "    def handle_starttag(self, tag, attrs):\n",
    "        'collects hyperlink URLs in their absolute format'\n",
    "        if tag == 'a':\n",
    "            for i in attrs:\n",
    "                if i[0] == 'href':\n",
    "                   \n",
    "                    absolute = urljoin(self.url, i[1])\n",
    "                    if absolute[:4] == 'http': \n",
    "                        self.links.append(absolute)\n",
    "                        \n",
    "    def getLinks(self):\n",
    "        'returns hyperlinks URLs in their absolute format'\n",
    "        return self.links"
   ]
  },
  {
   "cell_type": "code",
   "execution_count": 37,
   "id": "198664fe",
   "metadata": {},
   "outputs": [],
   "source": [
    "from html.parser import HTMLParser\n",
    "\n",
    "def addon(url):\n",
    "    \n",
    "    if len(viewer) ==1:\n",
    "        print(url)           # for testing\n",
    "\n",
    "    # obtain links in the web page\n",
    "    file = urlopen(url).read().decode()\n",
    "    content = Collect(url)\n",
    "    content.feed(file)\n",
    "    urls = content.getLinks()          # get list of links\n",
    "\n",
    "\n",
    "    return urls"
   ]
  },
  {
   "cell_type": "code",
   "execution_count": 38,
   "id": "2d809cad",
   "metadata": {},
   "outputs": [],
   "source": [
    "viewer= set() \n",
    "\n",
    "def webdir(url,depth):\n",
    "    '''a recursive web crawler that calls addon()\n",
    "       on every visited web page'''\n",
    "   \n",
    "    first_url=url\n",
    "    \n",
    "    global viewer     \n",
    "    viewer.add(url)\n",
    "\n",
    "    \n",
    "    links = addon(url)\n",
    "\n",
    "   \n",
    "    for link in links:\n",
    "        # follow link only if not visited\n",
    "        if link not in viewer:\n",
    "            try:                \n",
    "                if len(viewer) <= depth:\n",
    "\n",
    "\n",
    "                    if len(viewer) <= (depth-1):\n",
    "                        print( (depth-1)*'\\t',link)\n",
    "                    print( depth*'\\t',link)\n",
    "                webdir(link,depth)                \n",
    "            except:\n",
    "                pass"
   ]
  },
  {
   "cell_type": "code",
   "execution_count": 39,
   "id": "26f12f94",
   "metadata": {},
   "outputs": [
    {
     "name": "stdout",
     "output_type": "stream",
     "text": [
      "http://reed.cs.depaul.edu/lperkovic/test1.html\n",
      "\t http://reed.cs.depaul.edu/lperkovic/test2.html\n",
      "\t\t http://reed.cs.depaul.edu/lperkovic/test2.html\n",
      "\t\t http://reed.cs.depaul.edu/lperkovic/test4.html\n"
     ]
    }
   ],
   "source": [
    "webdir('http://reed.cs.depaul.edu/lperkovic/test1.html',2)"
   ]
  },
  {
   "cell_type": "markdown",
   "id": "f3379e9a",
   "metadata": {},
   "source": [
    "# Question 8"
   ]
  },
  {
   "cell_type": "code",
   "execution_count": 9,
   "id": "9f6c6a39",
   "metadata": {},
   "outputs": [
    {
     "data": {
      "text/plain": [
       "<sqlite3.Cursor at 0x22a0d28db20>"
      ]
     },
     "execution_count": 9,
     "metadata": {},
     "output_type": "execute_result"
    }
   ],
   "source": [
    "import sqlite3\n",
    "con = sqlite3.connect('web.db')\n",
    "cur = con.cursor()\n",
    "cur.execute(\"CREATE TABLE Weather_cnd (City text,Country text,Season text,Temperature_C float, Rainfall_mm float)\")\n",
    "cur.execute(\"INSERT INTO Weather_cnd VALUES ('Mumbai', 'India', 'Winter', 24.8, 5.9)\")\n",
    "cur.execute(\"INSERT INTO Weather_cnd VALUES ('Mumbai', 'India', 'Spring', 28.4, 16.2)\")\n",
    "cur.execute(\"INSERT INTO Weather_cnd VALUES ('Mumbai', 'India', 'Summer', 27.9, 1549.4)\")\n",
    "cur.execute(\"INSERT INTO Weather_cnd VALUES ('Mumbai', 'India' ,'Fall', 27.6, 346.0)\")\n",
    "cur.execute(\"INSERT INTO Weather_cnd VALUES ('London', 'United Kingdom',' Winter', 4.2,207.7)\")\n",
    "cur.execute(\"INSERT INTO Weather_cnd VALUES ('London', 'United Kingdom', 'Spring' ,8.3, 169.6)\")\n",
    "cur.execute(\"INSERT INTO Weather_cnd VALUES ('London', 'United Kingdom', 'Summer', 15.7, 157.0)\")\n",
    "cur.execute(\"INSERT INTO Weather_cnd VALUES ('London', 'United Kingdom', 'Fall', 10.4, 218.5)\")\n",
    "cur.execute(\"INSERT INTO Weather_cnd VALUES ('Cairo', 'Egypt', 'Winter', 13.6,16.5)\")\n",
    "cur.execute(\"INSERT INTO Weather_cnd VALUES ('Cairo', 'Egypt','Spring', 20.7, 6.5)\")\n",
    "cur.execute(\"INSERT INTO Weather_cnd VALUES ('Cairo', 'Egypt', 'Summer', 27.7, 0.1)\")\n",
    "cur.execute(\"INSERT INTO Weather_cnd VALUES ('Cairo', 'Egypt', 'Fall', 22.2, 4.5)\")\n"
   ]
  },
  {
   "cell_type": "code",
   "execution_count": 10,
   "id": "7366c558",
   "metadata": {},
   "outputs": [
    {
     "name": "stdout",
     "output_type": "stream",
     "text": [
      "('Mumbai', 'India', 'Winter', 24.8, 5.9)\n",
      "('Mumbai', 'India', 'Spring', 28.4, 16.2)\n",
      "('Mumbai', 'India', 'Summer', 27.9, 1549.4)\n",
      "('Mumbai', 'India', 'Fall', 27.6, 346.0)\n",
      "('London', 'United Kingdom', ' Winter', 4.2, 207.7)\n",
      "('London', 'United Kingdom', 'Spring', 8.3, 169.6)\n",
      "('London', 'United Kingdom', 'Summer', 15.7, 157.0)\n",
      "('London', 'United Kingdom', 'Fall', 10.4, 218.5)\n",
      "('Cairo', 'Egypt', 'Winter', 13.6, 16.5)\n",
      "('Cairo', 'Egypt', 'Spring', 20.7, 6.5)\n",
      "('Cairo', 'Egypt', 'Summer', 27.7, 0.1)\n",
      "('Cairo', 'Egypt', 'Fall', 22.2, 4.5)\n"
     ]
    }
   ],
   "source": [
    "cur.execute('SELECT * FROM Weather_cnd')\n",
    "for weather in cur:\n",
    "    print(weather)"
   ]
  },
  {
   "cell_type": "markdown",
   "id": "eec84503",
   "metadata": {},
   "source": [
    "a) All the temperature data."
   ]
  },
  {
   "cell_type": "code",
   "execution_count": 11,
   "id": "21b64158",
   "metadata": {},
   "outputs": [
    {
     "name": "stdout",
     "output_type": "stream",
     "text": [
      "(24.8,)\n",
      "(28.4,)\n",
      "(27.9,)\n",
      "(27.6,)\n",
      "(4.2,)\n",
      "(8.3,)\n",
      "(15.7,)\n",
      "(10.4,)\n",
      "(13.6,)\n",
      "(20.7,)\n",
      "(27.7,)\n",
      "(22.2,)\n"
     ]
    }
   ],
   "source": [
    "cur.execute('SELECT Temperature_C FROM Weather_cnd')\n",
    "for weather in cur:\n",
    "    print(weather)\n"
   ]
  },
  {
   "cell_type": "markdown",
   "id": "77d9e059",
   "metadata": {},
   "source": [
    "b) All the cities, but without repetition."
   ]
  },
  {
   "cell_type": "code",
   "execution_count": 12,
   "id": "5f4f62d6",
   "metadata": {},
   "outputs": [
    {
     "name": "stdout",
     "output_type": "stream",
     "text": [
      "('Mumbai',)\n",
      "('London',)\n",
      "('Cairo',)\n"
     ]
    }
   ],
   "source": [
    "cur.execute('SELECT Distinct(City) FROM Weather_cnd')\n",
    "for weather in cur:\n",
    "    print(weather)\n"
   ]
  },
  {
   "cell_type": "markdown",
   "id": "48599a9f",
   "metadata": {},
   "source": [
    "c) All the records for India."
   ]
  },
  {
   "cell_type": "code",
   "execution_count": 22,
   "id": "2efb3279",
   "metadata": {},
   "outputs": [
    {
     "name": "stdout",
     "output_type": "stream",
     "text": [
      "('Mumbai', 'India', 'Winter', 24.8, 5.9)\n",
      "('Mumbai', 'India', 'Spring', 28.4, 16.2)\n",
      "('Mumbai', 'India', 'Summer', 27.9, 1549.4)\n",
      "('Mumbai', 'India', 'Fall', 27.6, 346.0)\n"
     ]
    }
   ],
   "source": [
    "cur.execute(\"SELECT * FROM Weather_cnd WHERE Country is 'India'\")\n",
    "for weather in cur:\n",
    "    print(weather)"
   ]
  },
  {
   "cell_type": "markdown",
   "id": "d2e22930",
   "metadata": {},
   "source": [
    "d) All the Fall records"
   ]
  },
  {
   "cell_type": "code",
   "execution_count": 13,
   "id": "d2e4e4aa",
   "metadata": {},
   "outputs": [
    {
     "name": "stdout",
     "output_type": "stream",
     "text": [
      "('Mumbai', 'India', 'Fall', 27.6, 346.0)\n",
      "('London', 'United Kingdom', 'Fall', 10.4, 218.5)\n",
      "('Cairo', 'Egypt', 'Fall', 22.2, 4.5)\n"
     ]
    }
   ],
   "source": [
    "cur.execute(\"SELECT * FROM Weather_cnd WHERE Season is 'Fall'\")\n",
    "for weather in cur:\n",
    "    print(weather)"
   ]
  },
  {
   "cell_type": "markdown",
   "id": "a7a51649",
   "metadata": {},
   "source": [
    "e) The city, country, and season for which the average rainfall is between 200\n",
    "and 400 millimeters."
   ]
  },
  {
   "cell_type": "code",
   "execution_count": 14,
   "id": "07a52eab",
   "metadata": {},
   "outputs": [
    {
     "name": "stdout",
     "output_type": "stream",
     "text": [
      "('Mumbai', 'India', 'Fall', 346.0)\n",
      "('London', 'United Kingdom', ' Winter', 207.7)\n",
      "('London', 'United Kingdom', 'Fall', 218.5)\n"
     ]
    }
   ],
   "source": [
    "cur.execute(\"SELECT City, Country, Season,Rainfall_mm FROM Weather_cnd WHERE Rainfall_mm Between 200 and 400\")\n",
    "for weather in cur:\n",
    "    print(weather)"
   ]
  },
  {
   "cell_type": "markdown",
   "id": "57369c36",
   "metadata": {},
   "source": [
    "f) The city and country for which the average Fall temperature is above 20 degrees, in increasing temperature order."
   ]
  },
  {
   "cell_type": "code",
   "execution_count": 15,
   "id": "7862926f",
   "metadata": {},
   "outputs": [
    {
     "name": "stdout",
     "output_type": "stream",
     "text": [
      "('Cairo', 'Egypt', 22.2)\n",
      "('Mumbai', 'India', 27.6)\n"
     ]
    }
   ],
   "source": [
    "cur.execute(\"SELECT City, Country,Temperature_c FROM Weather_cnd WHERE Season is 'Fall' AND Temperature_c>20 order by Temperature_c ASC\")\n",
    "for weather in cur:\n",
    "    print(weather)"
   ]
  },
  {
   "cell_type": "markdown",
   "id": "2d4bb0f1",
   "metadata": {},
   "source": [
    "g) The total annual rainfall for Cairo."
   ]
  },
  {
   "cell_type": "code",
   "execution_count": 16,
   "id": "dd930dab",
   "metadata": {},
   "outputs": [
    {
     "name": "stdout",
     "output_type": "stream",
     "text": [
      "('Cairo', 27.6)\n"
     ]
    }
   ],
   "source": [
    "cur.execute(\"SELECT City, SUM(Rainfall_mm) FROM Weather_cnd WHERE City is 'Cairo'\")\n",
    "for weather in cur:\n",
    "    print(weather)"
   ]
  },
  {
   "cell_type": "markdown",
   "id": "8e9b885e",
   "metadata": {},
   "source": [
    "h) The total rainfall for each season"
   ]
  },
  {
   "cell_type": "code",
   "execution_count": 17,
   "id": "51e9c72f",
   "metadata": {},
   "outputs": [
    {
     "name": "stdout",
     "output_type": "stream",
     "text": [
      "(' Winter', 207.7)\n",
      "('Fall', 569.0)\n",
      "('Spring', 192.29999999999998)\n",
      "('Summer', 1706.5)\n",
      "('Winter', 22.4)\n"
     ]
    }
   ],
   "source": [
    "cur.execute(\"SELECT Season, SUM(Rainfall_mm) FROM Weather_cnd group by Season\")\n",
    "for weather in cur:\n",
    "    print(weather)"
   ]
  },
  {
   "cell_type": "markdown",
   "id": "16157454",
   "metadata": {},
   "source": [
    "# Question 9"
   ]
  },
  {
   "cell_type": "code",
   "execution_count": 34,
   "id": "d562f2c2",
   "metadata": {},
   "outputs": [
    {
     "name": "stdout",
     "output_type": "stream",
     "text": [
      "['THE', 'QUICK', 'BROWN', 'FOX', 'JUMPS', 'OVER', 'THE', 'LAZY', 'DOG']\n",
      "\n",
      "\n",
      "['the', 'quick', 'brown', 'fox', 'jumps', 'over', 'the', 'lazy', 'dog']\n",
      "\n",
      "\n",
      "3,5,5,3,5,4,3,4,3,\n",
      "\n",
      "[['THE', 'the', 3], ['QUICK', 'quick', 5], ['BROWN', 'brown', 5], ['FOX', 'fox', 3], ['JUMPS', 'jumps', 5], ['OVER', 'over', 4], ['THE', 'the', 3], ['LAZY', 'lazy', 4], ['DOG', 'dog', 3]]\n",
      "\n",
      "\n",
      "quick,brown,jumps,over,lazy,"
     ]
    }
   ],
   "source": [
    "words =['The', 'quick', 'brown', 'fox', 'jumps', 'over','the', 'lazy', 'dog']\n",
    "every_word = [x.upper() for x in words]\n",
    "print(every_word)\n",
    "print('\\n')\n",
    "every_word = [x.lower() for x in words]\n",
    "print(every_word)\n",
    "print('\\n')\n",
    "for word in words:\n",
    "        print(len(word), end=',')\n",
    "        \n",
    "print('\\n')       \n",
    "every_word = [[x.upper(), x.lower(), len(x)] for x in words]\n",
    "print(every_word)\n",
    "\n",
    "print('\\n')\n",
    "for word in words:\n",
    "    if len(word) >= 4:\n",
    "        print(word, end=',')"
   ]
  },
  {
   "cell_type": "code",
   "execution_count": null,
   "id": "9286dba6",
   "metadata": {},
   "outputs": [],
   "source": []
  }
 ],
 "metadata": {
  "kernelspec": {
   "display_name": "Python 3 (ipykernel)",
   "language": "python",
   "name": "python3"
  },
  "language_info": {
   "codemirror_mode": {
    "name": "ipython",
    "version": 3
   },
   "file_extension": ".py",
   "mimetype": "text/x-python",
   "name": "python",
   "nbconvert_exporter": "python",
   "pygments_lexer": "ipython3",
   "version": "3.9.7"
  }
 },
 "nbformat": 4,
 "nbformat_minor": 5
}
